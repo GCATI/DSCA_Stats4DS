{
 "cells": [
  {
   "cell_type": "markdown",
   "metadata": {},
   "source": [
    "## Exploratory Data Analysis and Linear Models\n",
    "\n",
    "### Importing the packages and setting the plot defaults"
   ]
  },
  {
   "cell_type": "code",
   "execution_count": null,
   "metadata": {},
   "outputs": [],
   "source": [
    "import numpy as np # linear algebra\n",
    "import pandas as pd # data processing\n",
    "import matplotlib.pyplot as plt # data plotting\n",
    "import seaborn as sns # data visualisation and plotting\n",
    "import statsmodels.api as sm # statistical modelling package\n",
    "import statsmodels.formula.api as smf # statistical modelling package with R-like formulas\n",
    "import scipy.stats as stats\n",
    "import math\n",
    "\n",
    "#sns.set(color_codes=True)\n",
    "\n",
    "from statsmodels.genmod.generalized_linear_model import GLM # importing packages to run GLM\n",
    "from statsmodels.genmod import families # importing families for exponential families\n",
    "from scipy.stats import binom # to illustrate the binomial distribution.\n",
    "from sklearn import datasets, linear_model # fetching iris dataset and linear model functions\n",
    "from sklearn.metrics import mean_squared_error, r2_score\n",
    "\n",
    "# Seaborn plot default configurations\n",
    "sns.set_style(\"white\")\n",
    "\n",
    "# set the custom size for my graphs\n",
    "sns.set(rc={'figure.figsize':(8.7,6.27)})\n"
   ]
  },
  {
   "cell_type": "markdown",
   "metadata": {},
   "source": [
    "### Reading in the iris data"
   ]
  },
  {
   "cell_type": "code",
   "execution_count": null,
   "metadata": {},
   "outputs": [],
   "source": [
    "# Define sklearn_to_df function to convert from sklearn to a pandas dataframes\n",
    "\n",
    "def sklearn_to_df(sklearn_dataset):\n",
    "    df = pd.DataFrame(sklearn_dataset.data, columns=sklearn_dataset.feature_names)\n",
    "    df['target'] = pd.Categorical.from_codes(sklearn_dataset.target, sklearn_dataset.target_names)\n",
    "    return df"
   ]
  },
  {
   "cell_type": "code",
   "execution_count": null,
   "metadata": {},
   "outputs": [],
   "source": [
    "# import and convert format of iris data to pandas data frame from sklearn\n",
    "df_iris = sklearn_to_df(datasets.load_iris())"
   ]
  },
  {
   "cell_type": "markdown",
   "metadata": {},
   "source": [
    "### Exercise 1\n",
    "\n",
    "Run the following lines of code to explore the data"
   ]
  },
  {
   "cell_type": "markdown",
   "metadata": {},
   "source": [
    "1. What are the dimensions of the dataframe?"
   ]
  },
  {
   "cell_type": "code",
   "execution_count": null,
   "metadata": {},
   "outputs": [],
   "source": [
    "print(df_iris.shape)"
   ]
  },
  {
   "cell_type": "markdown",
   "metadata": {},
   "source": [
    "2. What are the first and last values of sepal.length?"
   ]
  },
  {
   "cell_type": "code",
   "execution_count": null,
   "metadata": {},
   "outputs": [],
   "source": [
    "df_iris.head(5)\n",
    "\n",
    "df_iris.tail(5)"
   ]
  },
  {
   "cell_type": "markdown",
   "metadata": {},
   "source": [
    "3. Which variables are float64s or objects?"
   ]
  },
  {
   "cell_type": "code",
   "execution_count": null,
   "metadata": {},
   "outputs": [],
   "source": [
    "df_iris.info()"
   ]
  },
  {
   "cell_type": "markdown",
   "metadata": {},
   "source": [
    " 4. Using the data summary, what is the minimum and maximum sepal length?"
   ]
  },
  {
   "cell_type": "code",
   "execution_count": null,
   "metadata": {},
   "outputs": [],
   "source": [
    "df_iris.describe()"
   ]
  },
  {
   "cell_type": "markdown",
   "metadata": {},
   "source": [
    "5. What are the names of the columns?"
   ]
  },
  {
   "cell_type": "code",
   "execution_count": null,
   "metadata": {},
   "outputs": [],
   "source": [
    "# Let's simplify the column names and make them more meaningful\n",
    "\n",
    "df_iris = df_iris.rename(columns = {'sepal length (cm)': 'sepal_length', 'sepal width (cm)': 'sepal_width', 'petal length (cm)': 'petal_length', 'petal width (cm)': 'petal_width','target': 'species'})\n",
    "\n",
    "# What are the names of the columns?\n",
    "\n",
    "df_iris.columns"
   ]
  },
  {
   "cell_type": "markdown",
   "metadata": {},
   "source": [
    "### Visualising Distributions\n",
    "\n",
    "How we visualise distributions depends on if the variable is\n",
    "\n",
    "1. Categorical\n",
    "2. Continuous"
   ]
  },
  {
   "cell_type": "markdown",
   "metadata": {},
   "source": [
    "**Categorical Variable**: Frequency Plot of Species"
   ]
  },
  {
   "cell_type": "code",
   "execution_count": null,
   "metadata": {},
   "outputs": [],
   "source": [
    "species_counts = sns.countplot(x= \"species\", data = df_iris)\n",
    "species_counts"
   ]
  },
  {
   "cell_type": "markdown",
   "metadata": {},
   "source": [
    "**Continuous Variable**: Distribution Plot of Petal Length"
   ]
  },
  {
   "cell_type": "code",
   "execution_count": null,
   "metadata": {},
   "outputs": [],
   "source": [
    "petal_length_all_distplot = sns.distplot(df_iris['petal_length'], \n",
    "    hist = False, kde = True, kde_kws = {'shade': True, 'linewidth': 3})\n",
    "\n",
    "petal_length_all_distplot.set(xlabel='Petal_length', ylabel='Density')\n",
    "\n",
    "petal_length_all_distplot"
   ]
  },
  {
   "cell_type": "markdown",
   "metadata": {},
   "source": [
    "**Continuous Variable**: Distribution Plot of Petal Length by Species"
   ]
  },
  {
   "cell_type": "code",
   "execution_count": null,
   "metadata": {},
   "outputs": [],
   "source": [
    "df_setosa = df_iris[df_iris.species == 'setosa']\n",
    "petal_length_species = sns.distplot(df_setosa[['petal_length']], label = 'setosa', \n",
    "              hist = False, kde = True, kde_kws = {'shade': True, 'linewidth': 3})\n",
    "\n",
    "df_virginica = df_iris[df_iris.species == 'virginica']\n",
    "petal_length_species = sns.distplot(df_virginica[['petal_length']], label = 'virginica', \n",
    "              hist = False, kde = True, kde_kws = {'shade': True, 'linewidth': 3})\n",
    "\n",
    "df_versicolor = df_iris[df_iris.species == 'versicolor']\n",
    "petal_length_species = sns.distplot(df_versicolor[['petal_length']], label = 'versicolor', \n",
    "              hist = False, kde = True, kde_kws = {'shade': True, 'linewidth': 3})\n",
    "\n",
    "\n",
    "petal_length_species.set(xlabel='Petal Length', ylabel='Density x 10')\n",
    "petal_length_species"
   ]
  },
  {
   "cell_type": "markdown",
   "metadata": {},
   "source": [
    "#### Covariation\n",
    "\n",
    "**Continuous vs. Categorical Variable**: Box plot of petal width by species"
   ]
  },
  {
   "cell_type": "code",
   "execution_count": null,
   "metadata": {},
   "outputs": [],
   "source": [
    "petal_width_boxplot = sns.boxplot(data = df_iris, y = 'petal_width', x = 'species')\n",
    "petal_width_boxplot"
   ]
  },
  {
   "cell_type": "markdown",
   "metadata": {},
   "source": [
    "**Continuous vs. Categorical Variable**: Violin plot of sepal length for each species"
   ]
  },
  {
   "cell_type": "code",
   "execution_count": null,
   "metadata": {},
   "outputs": [],
   "source": [
    "sepal_length_violin = sns.violinplot(data = df_iris, y = \"sepal_length\", x = 'species')\n",
    "sepal_length_violin"
   ]
  },
  {
   "cell_type": "markdown",
   "metadata": {},
   "source": [
    "**Continuous vs. Continuous Variable**: Scatterplot of petal width and petal length"
   ]
  },
  {
   "cell_type": "code",
   "execution_count": null,
   "metadata": {},
   "outputs": [],
   "source": [
    "iris_scatter_petal_length_sepal_width = sns.scatterplot(data = df_iris, x = 'petal_length', \n",
    "                                                        y = 'sepal_width', hue = 'species')\n",
    "iris_scatter_petal_length_sepal_width"
   ]
  },
  {
   "cell_type": "markdown",
   "metadata": {},
   "source": [
    "### Exercises\n",
    "\n",
    "1. Make a box plot or a violin plot of sepal width by species. How does this box plot/violin plot compare to the earlier box plot/violin plot we made of petal width and sepal length?\n",
    "\n",
    "2. Make a scatterplot to visualise the relationship between petal length and sepal length coloured by species. What patterns can you pick out from the data?\n",
    "\n",
    "3. Pairplots can be a quick and useful way to summarise your dataset quickly and to inspect the relationships simultaneously.Trying running the following code to make a pairplot. What does this code do?\n",
    "\n",
    "`iris_all_pairplot = sns.pairplot(data = df_iris, hue=\"species\", diag_kind=\"kde\")\n",
    "iris_all_pairplot`\n"
   ]
  },
  {
   "cell_type": "code",
   "execution_count": null,
   "metadata": {},
   "outputs": [],
   "source": [
    "## Exercise 1"
   ]
  },
  {
   "cell_type": "code",
   "execution_count": null,
   "metadata": {},
   "outputs": [],
   "source": [
    "## Exercise 2"
   ]
  },
  {
   "cell_type": "code",
   "execution_count": null,
   "metadata": {},
   "outputs": [],
   "source": [
    "## Exercise 3"
   ]
  },
  {
   "cell_type": "markdown",
   "metadata": {},
   "source": [
    "## Model Construction\n",
    "\n",
    "### Model 1: Continuous Variable\n",
    "\n",
    "We're interested in explaining the variation in `petal_width` using the explantory variable, `petal_length`.\n",
    "\n",
    "Note that the smf.ols function automatically includes the intercept in the model, so we don't have to specify one."
   ]
  },
  {
   "cell_type": "code",
   "execution_count": null,
   "metadata": {},
   "outputs": [],
   "source": [
    "model1 = smf.ols(formula = 'petal_width ~ petal_length', data = df_iris)\n",
    "\n",
    "results_mod1 = model1.fit()\n",
    "\n",
    "print(results_mod1.summary())"
   ]
  },
  {
   "cell_type": "code",
   "execution_count": null,
   "metadata": {},
   "outputs": [],
   "source": [
    "## Extracting variables from the model\n",
    "\n",
    "# Intercept\n",
    "print(\"Intercept = \",results_mod1.params['Intercept'])\n",
    "# Slope\n",
    "print(\"(Petal length) coef. = \", results_mod1.params['petal_length'])\n",
    "# R-squared\n",
    "print(\"R^2 = \", results_mod1.rsquared_adj)"
   ]
  },
  {
   "cell_type": "markdown",
   "metadata": {},
   "source": [
    "Constructing the line of best fit:"
   ]
  },
  {
   "cell_type": "code",
   "execution_count": null,
   "metadata": {},
   "outputs": [],
   "source": [
    "## Scatterplot of line of best fit compared to our previous guesses for\n",
    "## the different slope and intercept to describe relationship between petal width and petal length}\n",
    "\n",
    "iris_scatter = sns.scatterplot(data = df_iris, x = 'petal_length', y = 'petal_width', hue = 'species')\n",
    "\n",
    "x = np.arange(7)\n",
    "a = 0.37\n",
    "a1 = 0.35\n",
    "\n",
    "b = -0.2\n",
    "b1 = -0.3\n",
    "\n",
    "y = a*x + b\n",
    "y1 = a1*x + b\n",
    "y2 = results_mod1.params['petal_length']*x + results_mod1.params['Intercept']\n",
    "\n",
    "iris_scatter = sns.regplot(x = x, y = y, marker=\"+\")\n",
    "iris_scatter = sns.regplot(x = x, y = y1, marker=\"+\", line_kws = {\"color\": \"red\"})\n",
    "iris_scatter = sns.regplot(x = x, y = y2, marker = \"+\", line_kws = {\"color\": \"blue\"})\n",
    "iris_scatter\n"
   ]
  },
  {
   "cell_type": "code",
   "execution_count": null,
   "metadata": {},
   "outputs": [],
   "source": [
    "## Line of best fit using regplot\n",
    "\n",
    "\n",
    "iris_best_fit = sns.regplot(x = 'petal_length', y = 'petal_width', ci = 95, data = df_iris)\n",
    "iris_best_fit"
   ]
  },
  {
   "cell_type": "code",
   "execution_count": null,
   "metadata": {},
   "outputs": [],
   "source": [
    "## Inspecting the model residuals\n",
    "\n",
    "df_iris_resid = sns.residplot(y = 'petal_width', x = 'petal_length', data = df_iris)\n",
    "df_iris_resid\n"
   ]
  },
  {
   "cell_type": "code",
   "execution_count": null,
   "metadata": {},
   "outputs": [],
   "source": [
    "## Inspecting the model residuals using a qqplot\n",
    "\n",
    "resid = results_mod1.resid\n",
    "\n",
    "# Use statsmodels qqplot to graph residuals\n",
    "# make a figure and an axis\n",
    "f, ax = plt.subplots(figsize=(7,7))\n",
    "# call the qqplot graph from statsmodels 'graphics' module.\n",
    "# fits against the normal distribution as standard.\n",
    "sm.graphics.qqplot(resid, line='45', fit=True, ax=ax)"
   ]
  },
  {
   "cell_type": "markdown",
   "metadata": {},
   "source": [
    "### Model 2: Continuous and Categorical Variables\n"
   ]
  },
  {
   "cell_type": "code",
   "execution_count": null,
   "metadata": {},
   "outputs": [],
   "source": [
    "model2 = smf.ols(formula = 'petal_width ~ petal_length + C(species)', data = df_iris)\n",
    "\n",
    "results_mod2 = model2.fit()\n",
    "\n",
    "print(results_mod2.summary())"
   ]
  },
  {
   "cell_type": "code",
   "execution_count": null,
   "metadata": {},
   "outputs": [],
   "source": [
    "## Line of best fit\n",
    "\n",
    "iris_scatter_species = sns.scatterplot(data = df_iris, x = 'petal_length', y = 'petal_width', hue = 'species')\n",
    "\n",
    "x = np.arange(7)\n",
    "a = results_mod2.params['petal_length']\n",
    "\n",
    "b_setosa = results_mod2.params['Intercept']\n",
    "b_virginica = results_mod2.params['C(species)[T.virginica]'] + results_mod2.params['Intercept']\n",
    "b_versicolor = results_mod2.params['C(species)[T.versicolor]']  + results_mod2.params['Intercept']\n",
    "\n",
    "\n",
    "y_setosa = a*x + b_setosa\n",
    "y_virginica = a*x + b_virginica\n",
    "y_versicolor = a*x + b_versicolor\n",
    "\n",
    "iris_scatter_species = sns.regplot(x = x, y = y_setosa, marker=\"+\", line_kws = {\"color\": \"blue\"})\n",
    "iris_scatter_species = sns.regplot(x = x, y = y_virginica, marker = \"+\", line_kws = {\"color\": \"green\"})\n",
    "iris_scatter_species = sns.regplot(x = x, y = y_versicolor, marker = \"+\", line_kws = {\"color\": \"orange\"})\n",
    "\n",
    "iris_scatter_species\n"
   ]
  },
  {
   "cell_type": "code",
   "execution_count": null,
   "metadata": {},
   "outputs": [],
   "source": [
    "## Residuals for model 2\n",
    "\n",
    "resid2 = results_mod2.resid\n",
    "fitted2 = results_mod2.fittedvalues\n",
    "\n",
    "resid2_plot = sns.scatterplot(x = fitted2, y = resid2)\n",
    "resid2_plot.set(xlabel='fitted', ylabel='residuals')\n",
    "resid2_plot"
   ]
  },
  {
   "cell_type": "code",
   "execution_count": null,
   "metadata": {},
   "outputs": [],
   "source": [
    "## qqplot for model 2\n",
    "\n",
    "# Use statsmodels qqplot to graph errors\n",
    "# make a figure and an axis\n",
    "f, ax = plt.subplots(figsize=(7,7))\n",
    "# call the qqplot graph from statsmodels 'graphics' module.\n",
    "# fits against the normal distribution as standard.\n",
    "\n",
    "sm.graphics.qqplot(resid2, line='45', fit=True, ax=ax);"
   ]
  },
  {
   "cell_type": "markdown",
   "metadata": {},
   "source": [
    "### Model 3: Interactions"
   ]
  },
  {
   "cell_type": "code",
   "execution_count": null,
   "metadata": {},
   "outputs": [],
   "source": [
    "## Model Specification and Model Fit\n",
    "\n",
    "model3 = smf.ols(formula = 'petal_width ~ petal_length*C(species)', data = df_iris)\n",
    "\n",
    "results_mod3 = model3.fit()\n",
    "\n",
    "print(results_mod3.summary())"
   ]
  },
  {
   "cell_type": "code",
   "execution_count": null,
   "metadata": {},
   "outputs": [],
   "source": [
    "## Line of Best Fit\n",
    "\n",
    "iris_scatter_species = sns.scatterplot(data = df_iris, x = 'petal_length', y = 'petal_width', hue = 'species')\n",
    "\n",
    "x = np.arange(7)\n",
    "a_setosa = results_mod3.params['petal_length']\n",
    "a_virginica = results_mod3.params['petal_length:C(species)[T.virginica]'] + results_mod3.params['petal_length']\n",
    "a_versicolor = results_mod3.params['petal_length:C(species)[T.versicolor]'] + results_mod3.params['petal_length']\n",
    "\n",
    "b_setosa = results_mod3.params['Intercept']\n",
    "b_virginica = results_mod3.params['C(species)[T.virginica]'] + results_mod3.params['Intercept']\n",
    "b_versicolor = results_mod3.params['C(species)[T.versicolor]'] + results_mod3.params['Intercept']\n",
    "\n",
    "\n",
    "y_setosa = a_setosa*x + b_setosa\n",
    "y_virginica = a_virginica*x + b_virginica\n",
    "y_versicolor = a_versicolor*x + b_versicolor\n",
    "\n",
    "iris_scatter_species = sns.regplot(x = x, y = y_setosa, marker= \"+\", line_kws = {\"color\": \"blue\"})\n",
    "iris_scatter_species = sns.regplot(x = x, y = y_virginica, marker = \"+\", line_kws = {\"color\": \"green\"})\n",
    "iris_scatter_species = sns.regplot(x = x, y = y_versicolor, marker = \"+\", line_kws = {\"color\": \"orange\"})\n",
    "\n",
    "iris_scatter_species\n"
   ]
  },
  {
   "cell_type": "code",
   "execution_count": null,
   "metadata": {},
   "outputs": [],
   "source": [
    "## Residuals for Model 3\n",
    "\n",
    "resid3 = results_mod3.resid\n",
    "fitted3 = results_mod3.fittedvalues\n",
    "\n",
    "resid3_plot = sns.scatterplot(x = fitted3, y = resid3)\n",
    "resid3_plot\n"
   ]
  },
  {
   "cell_type": "code",
   "execution_count": null,
   "metadata": {},
   "outputs": [],
   "source": [
    "## qqplot for Model 3\n",
    "\n",
    "# Use statsmodels qqplot to graph errors\n",
    "# make a figure and an axis\n",
    "f, ax = plt.subplots(figsize=(7,7))\n",
    "# call the qqplot graph from statsmodels 'graphics' module.\n",
    "# fits against the normal distribution as standard.\n",
    "\n",
    "sm.graphics.qqplot(resid3, line='45', fit=True, ax=ax);"
   ]
  },
  {
   "cell_type": "markdown",
   "metadata": {},
   "source": [
    "### Model Comparison Exercise\n",
    "\n",
    "**Exercises**\n",
    "\n",
    "1. Let's compare the models we ran using Adjusted R^2 and AIC. Using the notes above, discuss in groups which model you think is best and why?\n",
    "\n",
    "2. Take a look at the main parameters of Model 2 and Model 3 from the model summary tables. Do they seem to vary much between the models?\n",
    "\n"
   ]
  },
  {
   "cell_type": "code",
   "execution_count": null,
   "metadata": {},
   "outputs": [],
   "source": [
    "## Exercise: Comparing R-squared\n",
    "#Note, \\n will put the results on the next line!\n",
    "\n",
    "print(\"Adjusted R^2 Model 1 = \", results_mod1.rsquared_adj, \"\\nAdjusted R^2 Model 2 = \", results_mod2.rsquared_adj\n",
    ", \"\\nAdjusted R^2 Model 3 = \", results_mod3.rsquared_adj)\n",
    "\n",
    "\n",
    "## Comparing AIC\n",
    "\n",
    "print(\"AIC Model 1 = \", results_mod1.aic, \"\\nAIC Model 2 = \", results_mod2.aic, \"\\nAIC Model 3 = \", results_mod3.aic)\n",
    "\n"
   ]
  },
  {
   "cell_type": "code",
   "execution_count": null,
   "metadata": {},
   "outputs": [],
   "source": [
    "## Exercise: Take a look at the main parameters from Model 2 and Model 3 from the model summary tables"
   ]
  },
  {
   "cell_type": "markdown",
   "metadata": {},
   "source": [
    "## Generalized Linear Models\n",
    "\n",
    "The traditional statistical approach was to assume that all variation in the data was normally distributed, or to transform the data until it was, and then use classical methods based on the normal distribution to draw conclusions. \n",
    "\n",
    "In generalized linear models, variability isn't just a nuisance, but actually tells us something about the processes we are interested in. What we treat as \"signal\" and what we treat as \"noise\"  depends on our question. The same source of variability might provide an interesting insight into the data or be something we wish to account for so we can explore it further. \n",
    "\n",
    "In the next section, we will introduce you to a few common distributions that capture different forms of variation in the response variable from the exponential family.\n",
    "\n",
    "We will then give practical examples of how to fit and interpret these models using python."
   ]
  },
  {
   "cell_type": "code",
   "execution_count": null,
   "metadata": {},
   "outputs": [],
   "source": [
    "## Normal Distribution\n",
    "\n",
    "mu = 0\n",
    "variance = 1\n",
    "sigma = math.sqrt(variance)\n",
    "norm_1 = np.linspace(mu - 3*sigma, mu + 3*sigma, 100)\n",
    "plt.plot(norm_1, stats.norm.pdf(norm_1, mu, sigma))\n",
    "\n",
    "\n",
    "mu = 0\n",
    "variance = 5\n",
    "sigma = math.sqrt(variance)\n",
    "norm_2 = np.linspace(mu - 3*sigma, mu + 3*sigma, 100)\n",
    "plt.plot(norm_2, stats.norm.pdf(norm_2, mu, sigma))\n",
    "plt.ylabel('Density')\n",
    "plt.xlabel('Value')\n",
    "plt.show()\n"
   ]
  },
  {
   "cell_type": "code",
   "execution_count": null,
   "metadata": {},
   "outputs": [],
   "source": [
    "## Binomial Distribution\n",
    "from scipy.stats import binom\n",
    "\n",
    "k = np.arange(11)\n",
    "data_binom = binom.pmf(k, n = 10, p = 0.8)\n",
    "\n",
    "ax_binom = sns.barplot(x = k, y = data_binom)\n",
    "\n",
    "#ax_binom = plt.plot(data_binom)\n",
    "ax_binom.set(xlabel='Successes', ylabel='Density')\n",
    "\n",
    "ax_binom;\n",
    "\n"
   ]
  },
  {
   "cell_type": "code",
   "execution_count": null,
   "metadata": {},
   "outputs": [],
   "source": [
    "## Poisson Distribution\n",
    "\n",
    "from scipy.stats import poisson\n",
    "k = np.arange(100, step = 5)\n",
    "data_poisson = poisson.pmf(k = k, mu = 40)\n",
    "\n",
    "ax_poisson = sns.barplot(x = k, y = data_poisson)\n",
    "\n",
    "ax_poisson.set(xlabel='Count', ylabel='Density')\n",
    "ax_poisson\n"
   ]
  },
  {
   "cell_type": "code",
   "execution_count": null,
   "metadata": {},
   "outputs": [],
   "source": [
    "## Negative Binomial\n",
    "\n",
    "from scipy.stats import nbinom\n",
    "data_nbinom = nbinom.rvs(n = 5, p = 0.5, size=10000)\n",
    " \n",
    "ax_nbinom = sns.distplot(data_nbinom, kde = False)\n",
    " \n",
    "ax_nbinom.set(xlabel='Negative Binomial', ylabel='Frequency')\n",
    "ax_nbinom\n"
   ]
  },
  {
   "cell_type": "markdown",
   "metadata": {},
   "source": [
    "#### Exercise:\n",
    "\n",
    "1. Experiment with the poisson distribution. What happens when you change mu?\n",
    "\n",
    "2. In groups of 2-3, discuss some examples from your own work where you have a response variable that comes from a Binomial, Poisson, or Normal distribution?\n"
   ]
  },
  {
   "cell_type": "code",
   "execution_count": null,
   "metadata": {},
   "outputs": [],
   "source": [
    "## Exercise 1: Experiment with the negative binomial distribution\n",
    "\n",
    "from scipy.stats import nbinom\n",
    "data_nbinom = nbinom.rvs(n = 5, p = 0.5, size=10000)\n",
    " \n",
    "ax_nbinom = sns.distplot(data_nbinom, kde = False)\n",
    " \n",
    "ax_nbinom.set(xlabel='Negative Binomial', ylabel='Frequency')\n",
    "ax_nbinom\n"
   ]
  },
  {
   "cell_type": "code",
   "execution_count": null,
   "metadata": {},
   "outputs": [],
   "source": []
  },
  {
   "cell_type": "code",
   "execution_count": null,
   "metadata": {},
   "outputs": [],
   "source": []
  }
 ],
 "metadata": {
  "kernelspec": {
   "display_name": "Python 3",
   "language": "python",
   "name": "python3"
  },
  "language_info": {
   "codemirror_mode": {
    "name": "ipython",
    "version": 3
   },
   "file_extension": ".py",
   "mimetype": "text/x-python",
   "name": "python",
   "nbconvert_exporter": "python",
   "pygments_lexer": "ipython3",
   "version": "3.7.3"
  }
 },
 "nbformat": 4,
 "nbformat_minor": 2
}
